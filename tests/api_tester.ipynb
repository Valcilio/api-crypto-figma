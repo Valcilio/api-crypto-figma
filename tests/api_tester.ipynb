{
 "cells": [
  {
   "cell_type": "markdown",
   "metadata": {},
   "source": [
    "# Imports"
   ]
  },
  {
   "cell_type": "code",
   "execution_count": 8,
   "metadata": {},
   "outputs": [],
   "source": [
    "import os\n",
    "import pandas as pd\n",
    "import json\n",
    "import requests"
   ]
  },
  {
   "cell_type": "markdown",
   "metadata": {},
   "source": [
    "# Calling API"
   ]
  },
  {
   "cell_type": "code",
   "execution_count": 12,
   "metadata": {},
   "outputs": [
    {
     "name": "stdout",
     "output_type": "stream",
     "text": [
      "Status Code 200\n"
     ]
    }
   ],
   "source": [
    "url = os.environ.get('FIGMA_CRYPTO_API_URL')\n",
    "\n",
    "header = {'Content-type': 'application/json' }\n",
    "framework_data = {'crypto': 'ETH', \n",
    "                'market_curr': 'BRL', \n",
    "                'run_model': True,\n",
    "                'column': 'high',\n",
    "                'old_days': 0,\n",
    "                'next_days': 14}\n",
    "\n",
    "framework_json = json.dumps(framework_data)\n",
    "\n",
    "r = requests.post(url, data=framework_json, headers=header)\n",
    "print( 'Status Code {}'.format( r.status_code ) )"
   ]
  },
  {
   "cell_type": "markdown",
   "metadata": {},
   "source": [
    "# Checking Data"
   ]
  },
  {
   "cell_type": "code",
   "execution_count": 13,
   "metadata": {},
   "outputs": [],
   "source": [
    "df = pd.DataFrame(r.json(), columns=r.json()[0].keys())"
   ]
  },
  {
   "cell_type": "code",
   "execution_count": 14,
   "metadata": {},
   "outputs": [
    {
     "data": {
      "text/html": [
       "<div>\n",
       "<style scoped>\n",
       "    .dataframe tbody tr th:only-of-type {\n",
       "        vertical-align: middle;\n",
       "    }\n",
       "\n",
       "    .dataframe tbody tr th {\n",
       "        vertical-align: top;\n",
       "    }\n",
       "\n",
       "    .dataframe thead th {\n",
       "        text-align: right;\n",
       "    }\n",
       "</style>\n",
       "<table border=\"1\" class=\"dataframe\">\n",
       "  <thead>\n",
       "    <tr style=\"text-align: right;\">\n",
       "      <th></th>\n",
       "      <th>timestamp</th>\n",
       "      <th>high</th>\n",
       "      <th>high_forecast</th>\n",
       "    </tr>\n",
       "  </thead>\n",
       "  <tbody>\n",
       "    <tr>\n",
       "      <th>0</th>\n",
       "      <td>2019-11-09</td>\n",
       "      <td>981.770097</td>\n",
       "      <td>NaN</td>\n",
       "    </tr>\n",
       "    <tr>\n",
       "      <th>1</th>\n",
       "      <td>2019-11-10</td>\n",
       "      <td>1012.366194</td>\n",
       "      <td>NaN</td>\n",
       "    </tr>\n",
       "    <tr>\n",
       "      <th>2</th>\n",
       "      <td>2019-11-11</td>\n",
       "      <td>1005.021017</td>\n",
       "      <td>NaN</td>\n",
       "    </tr>\n",
       "    <tr>\n",
       "      <th>3</th>\n",
       "      <td>2019-11-12</td>\n",
       "      <td>991.598895</td>\n",
       "      <td>NaN</td>\n",
       "    </tr>\n",
       "    <tr>\n",
       "      <th>4</th>\n",
       "      <td>2019-11-13</td>\n",
       "      <td>1002.220338</td>\n",
       "      <td>NaN</td>\n",
       "    </tr>\n",
       "    <tr>\n",
       "      <th>...</th>\n",
       "      <td>...</td>\n",
       "      <td>...</td>\n",
       "      <td>...</td>\n",
       "    </tr>\n",
       "    <tr>\n",
       "      <th>1010</th>\n",
       "      <td>2022-08-15</td>\n",
       "      <td>NaN</td>\n",
       "      <td>10067.560043</td>\n",
       "    </tr>\n",
       "    <tr>\n",
       "      <th>1011</th>\n",
       "      <td>2022-08-16</td>\n",
       "      <td>NaN</td>\n",
       "      <td>9737.466147</td>\n",
       "    </tr>\n",
       "    <tr>\n",
       "      <th>1012</th>\n",
       "      <td>2022-08-17</td>\n",
       "      <td>NaN</td>\n",
       "      <td>9857.794505</td>\n",
       "    </tr>\n",
       "    <tr>\n",
       "      <th>1013</th>\n",
       "      <td>2022-08-18</td>\n",
       "      <td>NaN</td>\n",
       "      <td>9741.557049</td>\n",
       "    </tr>\n",
       "    <tr>\n",
       "      <th>1014</th>\n",
       "      <td>2022-08-19</td>\n",
       "      <td>NaN</td>\n",
       "      <td>9410.417902</td>\n",
       "    </tr>\n",
       "  </tbody>\n",
       "</table>\n",
       "<p>1015 rows × 3 columns</p>\n",
       "</div>"
      ],
      "text/plain": [
       "       timestamp         high  high_forecast\n",
       "0     2019-11-09   981.770097            NaN\n",
       "1     2019-11-10  1012.366194            NaN\n",
       "2     2019-11-11  1005.021017            NaN\n",
       "3     2019-11-12   991.598895            NaN\n",
       "4     2019-11-13  1002.220338            NaN\n",
       "...          ...          ...            ...\n",
       "1010  2022-08-15          NaN   10067.560043\n",
       "1011  2022-08-16          NaN    9737.466147\n",
       "1012  2022-08-17          NaN    9857.794505\n",
       "1013  2022-08-18          NaN    9741.557049\n",
       "1014  2022-08-19          NaN    9410.417902\n",
       "\n",
       "[1015 rows x 3 columns]"
      ]
     },
     "execution_count": 14,
     "metadata": {},
     "output_type": "execute_result"
    }
   ],
   "source": [
    "df"
   ]
  }
 ],
 "metadata": {
  "interpreter": {
   "hash": "450fff13fef24468119f0afbbe8563c47a1deb8705de05e4a6386c29bd605376"
  },
  "kernelspec": {
   "display_name": "Python 3.10.4 64-bit ('figma_assus')",
   "language": "python",
   "name": "python3"
  },
  "language_info": {
   "codemirror_mode": {
    "name": "ipython",
    "version": 3
   },
   "file_extension": ".py",
   "mimetype": "text/x-python",
   "name": "python",
   "nbconvert_exporter": "python",
   "pygments_lexer": "ipython3",
   "version": "3.10.4"
  },
  "orig_nbformat": 4
 },
 "nbformat": 4,
 "nbformat_minor": 2
}
